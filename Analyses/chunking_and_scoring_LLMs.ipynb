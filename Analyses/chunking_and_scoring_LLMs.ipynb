{
 "cells": [
  {
   "cell_type": "code",
   "execution_count": 1,
   "id": "b6b9578d-6ab9-46b1-92cb-92518f238727",
   "metadata": {
    "tags": []
   },
   "outputs": [],
   "source": [
    "# --------------------------------------------------------------------\n",
    "# 1. Imports and Config\n",
    "# --------------------------------------------------------------------\n",
    "import pandas as pd\n",
    "import os\n",
    "from tqdm import tqdm\n",
    "import time\n",
    "from huggingface_hub import InferenceClient\n",
    "import ast\n",
    "import re\n",
    "import string\n",
    "import textwrap\n",
    "import matplotlib.pyplot as plt\n",
    "import json\n",
    "import numpy as np\n",
    "\n",
    "client = InferenceClient(\n",
    "    provider=\"together\",\n",
    "    api_key=\"tgp_v1_5oc-cc8ND7yxBiomi-BILcdKjDdaS7samHhpA_m4u4c\",\n",
    ")\n",
    "\n",
    "LLAMA_MODEL = \"meta-llama/Llama-3.3-70B-Instruct\"\n",
    "TEMPERATURE = 1\n",
    "TOP_P = 1\n",
    "MAX_TOKENS = 800\n",
    "N = 1\n",
    "\n",
    "data_long = pd.read_csv('../Data/data_long.csv')\n",
    "output_path = '../Output/chunked_transcriptions.csv'\n",
    "os.makedirs('../Output', exist_ok=True)"
   ]
  },
  {
   "cell_type": "code",
   "execution_count": 3,
   "id": "7eaaafd8-e42d-430f-92be-410fe8b6aa40",
   "metadata": {
    "tags": []
   },
   "outputs": [],
   "source": [
    "chunking_prompt = \"\"\"\n",
    "You are an expert in cognitive psychology and verbal protocol analysis.\n",
    "\n",
    "You are given a transcription of a participant thinking aloud while solving a problem.\n",
    "\n",
    "Your task is to segment this transcription into meaningful chunks.\n",
    "\n",
    "A chunk should correspond to a coherent idea, thought, or step in the participant's reasoning or verbal expression — including hesitations, repetitions, or meta-comments. The goal is not only to segment explicit reasoning steps but to preserve the full structure of the verbalization.\n",
    "\n",
    "Guidelines:\n",
    "- Do not remove or suppress any part of the original text.\n",
    "- Do not segment based on arbitrary word count or length.\n",
    "- Split only when the participant clearly moves to another distinct thought, idea, or reasoning step (e.g., shifting from generating an answer to justifying it, or reflecting on their uncertainty).\n",
    "- Be conservative in splitting: avoid unnecessary fragmentation.\n",
    "- Preserve the original wording exactly in each chunk.\n",
    "\n",
    "Provide your output strictly in the following structure:\n",
    "\n",
    "Chunk 1:\n",
    "[exact text of chunk 1]\n",
    "\n",
    "Chunk 2:\n",
    "[exact text of chunk 2]\n",
    "\n",
    "Chunk 3:\n",
    "[exact text of chunk 3]\n",
    "\n",
    "Be exhaustive.\n",
    "\"\"\""
   ]
  },
  {
   "cell_type": "code",
   "execution_count": 60,
   "id": "63820f0f-3ff1-4ee9-ae18-feb1a3159840",
   "metadata": {
    "tags": []
   },
   "outputs": [
    {
     "name": "stdout",
     "output_type": "stream",
     "text": [
      "✅ Loaded 1014 already chunked transcriptions.\n"
     ]
    },
    {
     "name": "stderr",
     "output_type": "stream",
     "text": [
      "Chunking transcriptions: 100%|█████████████| 1001/1001 [00:01<00:00, 590.13it/s]"
     ]
    },
    {
     "name": "stdout",
     "output_type": "stream",
     "text": [
      "✅ Chunking completed and saved to ../Output/chunked_transcriptions.csv\n"
     ]
    },
    {
     "name": "stderr",
     "output_type": "stream",
     "text": [
      "\n"
     ]
    }
   ],
   "source": [
    "# --------------------------------------------------------------------\n",
    "# Define API Call\n",
    "# --------------------------------------------------------------------\n",
    "def chunk_transcription(transcription):\n",
    "    user_prompt = f\"Here is the transcription to chunk:\\n\\n{transcription}\"\n",
    "    response = client.chat.completions.create(\n",
    "        model=LLAMA_MODEL,\n",
    "        messages=[\n",
    "            {\"role\": \"system\", \"content\": chunking_prompt},\n",
    "            {\"role\": \"user\", \"content\": user_prompt}\n",
    "        ],\n",
    "        max_tokens=MAX_TOKENS,\n",
    "        temperature=TEMPERATURE,\n",
    "        top_p=TOP_P,\n",
    "        n=N,\n",
    "    )\n",
    "    return response.choices[0].message.content.strip()\n",
    "\n",
    "# --------------------------------------------------------------------\n",
    "# Load existing results if available\n",
    "# --------------------------------------------------------------------\n",
    "if os.path.exists(output_path):\n",
    "    existing_df = pd.read_csv(output_path)\n",
    "    already_chunked = set(zip(existing_df['subject_id'], existing_df['question']))\n",
    "    results = existing_df.to_dict(orient='records')\n",
    "    print(f\"✅ Loaded {len(existing_df)} already chunked transcriptions.\")\n",
    "else:\n",
    "    already_chunked = set()\n",
    "    results = []\n",
    "\n",
    "# --------------------------------------------------------------------\n",
    "# Run Chunking Loop\n",
    "# --------------------------------------------------------------------\n",
    "for idx, row in tqdm(data_long.iterrows(), total=len(data_long), desc=\"Chunking transcriptions\"):\n",
    "    key = (row['subject_id'], row['question'])\n",
    "\n",
    "    if key in already_chunked:\n",
    "        continue  # Skip already processed\n",
    "\n",
    "    try:\n",
    "        chunks = chunk_transcription(row['transcription_new'])\n",
    "\n",
    "        results.append({\n",
    "            'subject_id': row['subject_id'],\n",
    "            'question': row['question'],\n",
    "            'transcription_new': row['transcription_new'],\n",
    "            'chunks': chunks\n",
    "        })\n",
    "\n",
    "        # Save every 20 examples\n",
    "        if (idx + 1) % 20 == 0:\n",
    "            print(f\"💾 Saving progress at idx {idx + 1}...\")\n",
    "            pd.DataFrame(results).to_csv(output_path, index=False)\n",
    "\n",
    "    except Exception as e:\n",
    "        print(f\"⚠️ Error at idx {idx} (subject {row['subject_id']}, question {row['question']}): {e}\")\n",
    "        time.sleep(60)  # Wait before retrying to avoid rate limiting\n",
    "\n",
    "# Final save\n",
    "pd.DataFrame(results).to_csv(output_path, index=False)\n",
    "print(f\"✅ Chunking completed and saved to {output_path}\")"
   ]
  },
  {
   "cell_type": "code",
   "execution_count": 5,
   "id": "25770e91-627b-4eb1-b399-1cdd8806193b",
   "metadata": {
    "tags": []
   },
   "outputs": [
    {
     "name": "stderr",
     "output_type": "stream",
     "text": [
      "Aligning chunks:  49%|████▊     | 487/1001 [00:00<00:00, 1548.37it/s]"
     ]
    },
    {
     "name": "stdout",
     "output_type": "stream",
     "text": [
      "⚠️  Empty word_segments (sid 13, q 5)\n",
      "⚠️  Empty word_segments (sid 16, q 9)\n",
      "\n",
      "⏳ Gap 20.03s (sid 17, q 3, before chunk 7)\n",
      "   Prev chunk: Oh no, in which country do you bury the survivors?\n",
      "   Next chunk: Aha, I get it.\n",
      "   ASR words : wherever[25.23-25.65] | theyre[25.71-25.95] | from[26.03-26.27] | originally[26.31-27.04] | is[28.48-28.52] | that[28.54-28.76] | the[28.90-29.02] | correct[29.04-29.58] | answer[29.68-29.82] | oh[37.48-37.84] | no[37.90-38.12] | in[38.38-38.44] | which[38.48-38.60] | country[38.66-38.92] | do[38.96-39.00] | you[39.02-39.08] | bury[39.12-39.32] | the[39.36-39.42] | survivors[39.44-39.98]\n",
      "⚠️  Empty word_segments (sid 23, q 1)\n",
      "⚠️  Empty word_segments (sid 27, q 9)\n",
      "⚠️  Empty word_segments (sid 35, q 1)\n",
      "\n",
      "❌ Unmatched (sid 38, q 3, chunk 5)\n",
      "   Chunk     : So if the passengers are American,  in the U.S. if passengers are Canadian.\n",
      "   Tokens    : so if the passengers are american in the u s if passengers are canadian\n",
      "   Transcription:\n",
      " It's a stormy night and a plane takes off from JFK Airport in New York. The\n",
      "storm worsens and the plane crashes half lands in the United States, the other\n",
      "half lands in Canada. In which country do you bury the survivors? That would be\n",
      "the country they came from. So if the passengers are American,  in the U.S. if\n",
      "passengers are Canadian.\n",
      "   Nearest ts:\n",
      "      so              -> 19.64-19.68\n",
      "      if              -> 24.09-24.85\n",
      "      the             -> 6.04-6.16\n",
      "      passengers      -> 25.19-25.93\n",
      "      are             -> 25.95-27.41\n",
      "      american        -> 27.43-28.35\n",
      "      in              -> 4.94-4.98\n",
      "      the             -> 6.04-6.16\n",
      "      u               -> --\n",
      "      s               -> --\n",
      "      if              -> 24.09-24.85\n",
      "      passengers      -> 25.19-25.93\n",
      "      are             -> 25.95-27.41\n",
      "      canadian        -> 34.53-38.07\n",
      "----------------------------------------\n",
      "⚠️  Empty word_segments (sid 45, q 2)\n",
      "⚠️  Empty word_segments (sid 45, q 3)\n",
      "⚠️  Empty word_segments (sid 45, q 4)\n",
      "⚠️  Empty word_segments (sid 45, q 5)\n",
      "⚠️  Empty word_segments (sid 45, q 6)\n",
      "⚠️  Empty word_segments (sid 45, q 7)\n",
      "⚠️  Empty word_segments (sid 45, q 8)\n",
      "⚠️  Empty word_segments (sid 45, q 9)\n",
      "⚠️  Empty word_segments (sid 45, q 10)\n"
     ]
    },
    {
     "name": "stderr",
     "output_type": "stream",
     "text": [
      "Aligning chunks:  79%|███████▊  | 786/1001 [00:00<00:00, 1424.15it/s]"
     ]
    },
    {
     "name": "stdout",
     "output_type": "stream",
     "text": [
      "\n",
      "⏳ Gap 4.55s (sid 57, q 8, before chunk 2)\n",
      "   Prev chunk: if you have only one match and you walk into a dark room whe\n",
      "   Next chunk: if you have only one match and you walk into a dark room and\n",
      "   ASR words : if[11.99-12.05] | you[12.09-12.25] | have[12.29-12.43] | only[12.55-12.73] | one[12.75-13.07] | match[13.15-13.49] | the[14.47-14.57] | match[14.62-14.94]\n",
      "\n",
      "⏳ Gap 3.41s (sid 64, q 4, before chunk 2)\n",
      "   Prev chunk: <BEGIN>\n",
      "   Next chunk: Who will get the banana first?\n",
      "   ASR words : a[0.81-0.83] | monkey[0.87-1.13] | a[1.17-1.21] | squirrel[1.25-1.53] | and[2.45-2.51] | a[2.53-2.55] | bird[2.59-2.79] | are[2.81-2.87] | racing[2.89-3.05] | to[3.07-3.11] | the[3.15-3.21] | top[3.23-3.37] | of[3.41-3.48] | a[3.52-3.54] | coconut[3.58-3.94] | tree[3.96-4.16]\n",
      "\n",
      "⏳ Gap 4.53s (sid 79, q 10, before chunk 3)\n",
      "   Prev chunk: the yolk of the egg are white or b the yolk of the egg\n",
      "   Next chunk: the yolk of the egg is white\n",
      "   ASR words : is[10.19-10.27] | white[10.37-13.22]\n",
      "\n",
      "⏳ Gap 14.11s (sid 79, q 10, before chunk 5)\n",
      "   Prev chunk: the yolk of the egg are white\n",
      "   Next chunk: neither is white is yellow\n",
      "   ASR words : or[4.04-4.14] | b[4.22-4.52] | the[4.56-4.76] | yolk[4.80-5.04] | of[5.12-5.20] | the[5.22-5.44] | egg[5.72-5.88] | the[6.68-6.76] | yolk[6.82-7.04] | of[7.12-7.20] | the[7.29-7.34] | egg[7.46-7.62] | are[7.87-7.97] | white[8.01-8.45] | or[8.59-8.69] | b[8.75-8.97] | the[9.05-9.13] | yolk[9.19-9.45] | of[9.57-9.63] | the[9.71-9.79] | egg[9.91-10.05] | is[10.19-10.27] | white[10.37-13.22] | the[14.58-14.68] | yolk[14.76-15.06] | of[15.34-15.44] | the[15.46-15.68] | egg[15.82-15.98] | are[16.20-16.32] | white[16.40-16.74]\n",
      "\n",
      "⏳ Gap 0.56s (sid 84, q 3, before chunk 6)\n",
      "   Prev chunk: Get out of it, man. Get out of it. Get out of it. Get out of\n",
      "   Next chunk: Oh, yeah, you scared out of it. Huh? Huh? You scared?\n",
      "   ASR words : get[30.58-30.64] | out[30.70-30.76] | of[30.80-30.86] | it[30.90-30.96]\n",
      "⚠️  Empty word_segments (sid 92, q 4)\n",
      "⚠️  Empty word_segments (sid 94, q 1)\n",
      "⚠️  Empty word_segments (sid 94, q 2)\n",
      "⚠️  Empty word_segments (sid 94, q 3)\n",
      "⚠️  Empty word_segments (sid 94, q 4)\n",
      "⚠️  Empty word_segments (sid 94, q 6)\n",
      "⚠️  Empty word_segments (sid 94, q 8)\n"
     ]
    },
    {
     "name": "stderr",
     "output_type": "stream",
     "text": [
      "Aligning chunks: 100%|██████████| 1001/1001 [00:00<00:00, 1341.15it/s]"
     ]
    },
    {
     "name": "stdout",
     "output_type": "stream",
     "text": [
      "\n",
      "❌ Unmatched (sid 97, q 9, chunk 1)\n",
      "   Chunk     : Would it be ethical for a man to marry the sister of his window? No. \n",
      "\n",
      "Note: The transcription provided is quite brief and forms a single, coherent question followed by a direct answer. Therefore, it does not require multiple chunks to preserve the structure of the verbalization.\n",
      "   Tokens    : would it be ethical for a man to marry the sister of his window no note the transcription provided is quite brief and forms a single coherent question followed by a direct answer therefore it does not require multiple chunks to preserve the structure of the verbalization\n",
      "   Transcription:\n",
      " Would it be ethical for a man to marry the sister of his window? No.\n",
      "   Nearest ts:\n",
      "      would           -> 7.91-8.21\n",
      "      it              -> 8.29-8.38\n",
      "      be              -> 8.50-8.64\n",
      "      ethical         -> 8.74-9.16\n",
      "      for             -> 9.20-9.34\n",
      "      a               -> 9.40-9.43\n",
      "      man             -> 9.48-9.65\n",
      "      to              -> 9.71-9.79\n",
      "      marry           -> 9.85-10.09\n",
      "      the             -> 10.15-10.23\n",
      "      sister          -> 10.29-10.59\n",
      "      of              -> 10.63-10.68\n",
      "      his             -> 10.73-10.88\n",
      "      window          -> 10.98-11.36\n",
      "      no              -> 11.70-12.27\n",
      "      note            -> --\n",
      "      the             -> 10.15-10.23\n",
      "      transcription   -> --\n",
      "      provided        -> --\n",
      "      is              -> --\n",
      "      quite           -> --\n",
      "      brief           -> --\n",
      "      and             -> --\n",
      "      forms           -> --\n",
      "      a               -> 9.40-9.43\n",
      "----------------------------------------\n",
      "⚠️  Empty word_segments (sid 101, q 1)\n",
      "⚠️  Empty word_segments (sid 101, q 2)\n",
      "⚠️  Empty word_segments (sid 101, q 3)\n",
      "⚠️  Empty word_segments (sid 101, q 4)\n",
      "⚠️  Empty word_segments (sid 101, q 5)\n",
      "⚠️  Empty word_segments (sid 101, q 6)\n",
      "⚠️  Empty word_segments (sid 101, q 9)\n",
      "⚠️  Empty word_segments (sid 101, q 10)\n",
      "⚠️  Empty word_segments (sid 101, q 7)\n",
      "\n",
      "✅ Alignment done:\n",
      "   Total (subject_id, question) pairs     : 1001\n",
      "   Successfully aligned pairs             : 969\n",
      "   Excluded due to failed chunk alignment : 32\n",
      "   Total aligned chunks                   : 4011\n",
      "   Total unmatched chunks                 : 2\n"
     ]
    },
    {
     "name": "stderr",
     "output_type": "stream",
     "text": [
      "\n"
     ]
    }
   ],
   "source": [
    "# --------------------------------------------------------------------\n",
    "# 0. INPUT ------------------------------------------------------------\n",
    "chunks_df = pd.read_csv(\"../Output/chunked_transcriptions.csv\")\n",
    "\n",
    "# --------------------------------------------------------------------\n",
    "# 1. Clean & synchronise ---------------------------------------------\n",
    "data_long = data_long[\n",
    "    data_long['word_segments'].notna() &\n",
    "    (data_long['word_segments'].astype(str).str.lower() != 'nan')\n",
    "].reset_index(drop=True)\n",
    "\n",
    "valid = set(zip(data_long['subject_id'], data_long['question']))\n",
    "chunks_df = chunks_df[\n",
    "    chunks_df.apply(lambda r: (r['subject_id'], r['question']) in valid, axis=1) &\n",
    "    chunks_df['chunks'].notna() &\n",
    "    (chunks_df['chunks'].astype(str).str.strip().str.lower() != 'nan')\n",
    "].reset_index(drop=True)\n",
    "\n",
    "# --------------------------------------------------------------------\n",
    "# 2. helpers ----------------------------------------------------------\n",
    "def norm_token(tok: str):\n",
    "    tok = tok.lower().replace(\"—\", \"-\").replace(\"–\", \"-\")\n",
    "    return [re.sub(r\"[\\W_]+\", '', p) for p in tok.split(\"-\") if p]\n",
    "\n",
    "def fuzzy_match(chunk_words, full_words, start, tol):\n",
    "    n = len(chunk_words)\n",
    "    win = full_words[start:start+n]\n",
    "    if len(win) < n: return None\n",
    "    miss = sum(a != b for a, b in zip(win, chunk_words))\n",
    "    return (start, start+n-1) if miss/n <= tol else None\n",
    "\n",
    "def nearest_ts(word, full_words, idx_map, segs):\n",
    "    try:\n",
    "        i = full_words.index(word)\n",
    "        s = segs[idx_map[i]]\n",
    "        return f\"{s['start']:.2f}-{s['end']:.2f}\"\n",
    "    except ValueError:\n",
    "        return \"--\"\n",
    "\n",
    "def words_in_span(full_words, idx_map, segs, t0, t1):\n",
    "    return [f\"{w}[{segs[idx_map[i]]['start']:.2f}-{segs[idx_map[i]]['end']:.2f}]\"\n",
    "            for i, w in enumerate(full_words)\n",
    "            if t0 <= segs[idx_map[i]]['start'] and segs[idx_map[i]]['end'] <= t1]\n",
    "\n",
    "# --------------------------------------------------------------------\n",
    "# 3. align ------------------------------------------------------------\n",
    "aligned, unmatched = [], 0\n",
    "\n",
    "for _, row in tqdm(chunks_df.iterrows(), total=len(chunks_df), desc=\"Aligning chunks\"):\n",
    "    sid, qid, ck = row['subject_id'], row['question'], row['chunks']\n",
    "\n",
    "    seg_raw = data_long.loc[\n",
    "        (data_long['subject_id'] == sid) & (data_long['question'] == qid),\n",
    "        'word_segments'\n",
    "    ].values\n",
    "\n",
    "    if not len(seg_raw): continue\n",
    "    try:\n",
    "        segs = ast.literal_eval(seg_raw[0])\n",
    "    except Exception: continue\n",
    "    if not segs:\n",
    "        print(f\"⚠️  Empty word_segments (sid {sid}, q {qid})\")\n",
    "        continue\n",
    "\n",
    "    full, idx_map = [], []\n",
    "    for i, s in enumerate(segs):\n",
    "        for t in norm_token(s['word']):\n",
    "            full.append(t)\n",
    "            idx_map.append(i)\n",
    "\n",
    "    chunks = re.findall(r\"Chunk \\d+:\\s*(.*?)\\s*(?=Chunk \\d+:|$)\", ck, flags=re.DOTALL)\n",
    "    transcription_text = data_long.loc[\n",
    "        (data_long['subject_id'] == sid) & (data_long['question'] == qid),\n",
    "        'transcription_new'\n",
    "    ].values[0]\n",
    "\n",
    "    pointer, prev_end = 0, segs[0]['start']\n",
    "    prev_chunk_txt = \"<BEGIN>\"\n",
    "\n",
    "    for num, raw in enumerate(chunks, 1):\n",
    "        txt = raw.strip()\n",
    "        if txt.lower() in {'', 'nan'} or txt.lower().startswith((\"the transcription provided\", \"note:\")):\n",
    "            continue\n",
    "\n",
    "        cwords = [w for tok in re.findall(r\"\\w+['’]?\\w*|\\w+\", txt)\n",
    "                    for w in norm_token(tok)]\n",
    "        if not cwords: continue\n",
    "\n",
    "        tol = 1.0 if len(cwords) <= 3 else 0.25\n",
    "        matched = False\n",
    "\n",
    "        # Try aligning from pointer\n",
    "        for i in range(pointer, len(full) - len(cwords) + 1):\n",
    "            hit = fuzzy_match(cwords, full, i, tol)\n",
    "            if hit: s, e = hit; matched = True; break\n",
    "\n",
    "        # Try anywhere\n",
    "        if not matched:\n",
    "            for i in range(len(full) - len(cwords) + 1):\n",
    "                hit = fuzzy_match(cwords, full, i, tol)\n",
    "                if hit: s, e = hit; matched = True; break\n",
    "\n",
    "        # Try first+last word span\n",
    "        if not matched and len(cwords) >= 2:\n",
    "            first, last = cwords[0], cwords[-1]\n",
    "            starts = [i for i, w in enumerate(full) if w == first]\n",
    "            ends = [i for i, w in enumerate(full) if w == last]\n",
    "            for s in starts:\n",
    "                e = next((j for j in ends if j >= s), None)\n",
    "                if e and segs[idx_map[e]]['end'] - segs[idx_map[s]]['start'] <= 5:\n",
    "                    matched = True\n",
    "                    break\n",
    "\n",
    "        if matched:\n",
    "            t0, t1 = segs[idx_map[s]]['start'], segs[idx_map[e]]['end']\n",
    "            gap_words = words_in_span(full, idx_map, segs, prev_end, t0)\n",
    "\n",
    "            if gap_words:  # only show gaps with actual ASR words\n",
    "                print(f\"\\n⏳ Gap {t0 - prev_end:.2f}s (sid {sid}, q {qid}, before chunk {num})\")\n",
    "                print(f\"   Prev chunk: {prev_chunk_txt[:60]}\")\n",
    "                print(f\"   Next chunk: {txt[:60]}\")\n",
    "                print(\"   ASR words :\", \" | \".join(gap_words))\n",
    "\n",
    "            prev_end = t1\n",
    "            prev_chunk_txt = txt\n",
    "\n",
    "            aligned.append({\n",
    "                'subject_id': sid,\n",
    "                'question': qid,\n",
    "                'chunk_number': num,\n",
    "                'chunk_text': txt,\n",
    "                'start_time': t0,\n",
    "                'end_time': t1\n",
    "            })\n",
    "            pointer = e + 1\n",
    "        else:\n",
    "            unmatched += 1\n",
    "            print(f\"\\n❌ Unmatched (sid {sid}, q {qid}, chunk {num})\")\n",
    "            print(f\"   Chunk     : {txt}\")\n",
    "            print(f\"   Tokens    : {' '.join(cwords)}\")\n",
    "            print(f\"   Transcription:\\n{textwrap.fill(transcription_text, width=80)}\")\n",
    "            print(\"   Nearest ts:\")\n",
    "            for w in cwords[:25]:\n",
    "                print(f\"      {w:<15s} -> {nearest_ts(w, full, idx_map, segs)}\")\n",
    "            print(\"-\" * 40)\n",
    "            \n",
    "# --------------------------------------------------------------------\n",
    "# 4. Summary: Coverage and Alignment Report\n",
    "# --------------------------------------------------------------------\n",
    "# Total number of original (subject_id, question) pairs\n",
    "total_pairs = len(set(zip(data_long['subject_id'], data_long['question'])))\n",
    "\n",
    "# Number of pairs with at least one matched chunk\n",
    "aligned_pairs = len(set((c['subject_id'], c['question']) for c in aligned))\n",
    "\n",
    "# Number of excluded pairs (never aligned)\n",
    "excluded_pairs = total_pairs - aligned_pairs\n",
    "\n",
    "print(f\"\\n✅ Alignment done:\")\n",
    "print(f\"   Total (subject_id, question) pairs     : {total_pairs}\")\n",
    "print(f\"   Successfully aligned pairs             : {aligned_pairs}\")\n",
    "print(f\"   Excluded due to failed chunk alignment : {excluded_pairs}\")\n",
    "print(f\"   Total aligned chunks                   : {len(aligned)}\")\n",
    "print(f\"   Total unmatched chunks                 : {unmatched}\")"
   ]
  },
  {
   "cell_type": "code",
   "execution_count": 7,
   "id": "7211b8df-a9d3-4b5a-882f-ad72e1d1b498",
   "metadata": {
    "tags": []
   },
   "outputs": [
    {
     "data": {
      "image/png": "[encoded data removed]",
      "text/plain": [
       "<Figure size 640x480 with 1 Axes>"
      ]
     },
     "metadata": {},
     "output_type": "display_data"
    },
    {
     "name": "stdout",
     "output_type": "stream",
     "text": [
      "\n",
      "Summary stats for question start times:\n",
      "count    969.000000\n",
      "mean       2.427029\n",
      "std        4.343494\n",
      "min        0.031000\n",
      "25%        0.419000\n",
      "50%        1.145000\n",
      "75%        2.309000\n",
      "max       53.913000\n",
      "Name: start_time, dtype: float64\n"
     ]
    },
    {
     "data": {
      "image/png": "[encoded data removed]",
      "text/plain": [
       "<Figure size 640x480 with 1 Axes>"
      ]
     },
     "metadata": {},
     "output_type": "display_data"
    },
    {
     "name": "stdout",
     "output_type": "stream",
     "text": [
      "\n",
      "Summary stats for question durations:\n",
      "count    969.000000\n",
      "mean      24.509994\n",
      "std       20.146719\n",
      "min        0.193000\n",
      "25%       11.630000\n",
      "50%       19.966000\n",
      "75%       31.542000\n",
      "max      153.920000\n",
      "Name: question_duration, dtype: float64\n"
     ]
    },
    {
     "data": {
      "image/png": "[encoded data removed]",
      "text/plain": [
       "<Figure size 640x480 with 1 Axes>"
      ]
     },
     "metadata": {},
     "output_type": "display_data"
    },
    {
     "name": "stdout",
     "output_type": "stream",
     "text": [
      "\n",
      "Summary stats for chunk durations:\n",
      "count    4011.000000\n",
      "mean        4.822954\n",
      "std         4.660215\n",
      "min         0.020000\n",
      "25%         1.641000\n",
      "50%         3.385000\n",
      "75%         6.682000\n",
      "max        47.760000\n",
      "Name: chunk_duration, dtype: float64\n"
     ]
    }
   ],
   "source": [
    "# Load the aligned chunks\n",
    "aligned_df = pd.read_csv(\"../Output/aligned_chunks.csv\")\n",
    "\n",
    "# --------------------------------------------------------------------\n",
    "# 1. Distribution of question beginning (start time of first chunk)\n",
    "# --------------------------------------------------------------------\n",
    "first_chunks = aligned_df.sort_values(['subject_id', 'question', 'chunk_number']) \\\n",
    "                         .groupby(['subject_id', 'question'])['start_time'] \\\n",
    "                         .first()\n",
    "\n",
    "plt.figure()\n",
    "first_chunks.hist(bins=30)\n",
    "plt.title(\"Distribution of Question Start Times (First Chunk)\")\n",
    "plt.xlabel(\"Start Time (s)\")\n",
    "plt.ylabel(\"Frequency\")\n",
    "plt.grid(True)\n",
    "plt.tight_layout()\n",
    "plt.show()\n",
    "\n",
    "print(\"\\nSummary stats for question start times:\")\n",
    "print(first_chunks.describe())\n",
    "\n",
    "# --------------------------------------------------------------------\n",
    "# 2. Distribution of question length (time span from first to last chunk)\n",
    "# --------------------------------------------------------------------\n",
    "chunk_spans = aligned_df.groupby(['subject_id', 'question']) \\\n",
    "    .agg(first_start=('start_time', 'min'), last_end=('end_time', 'max'))\n",
    "chunk_spans['question_duration'] = chunk_spans['last_end'] - chunk_spans['first_start']\n",
    "\n",
    "plt.figure()\n",
    "chunk_spans['question_duration'].hist(bins=30)\n",
    "plt.title(\"Distribution of Question Duration\")\n",
    "plt.xlabel(\"Duration (s)\")\n",
    "plt.ylabel(\"Frequency\")\n",
    "plt.grid(True)\n",
    "plt.tight_layout()\n",
    "plt.show()\n",
    "\n",
    "print(\"\\nSummary stats for question durations:\")\n",
    "print(chunk_spans['question_duration'].describe())\n",
    "\n",
    "# --------------------------------------------------------------------\n",
    "# 3. Distribution of individual chunk durations\n",
    "# --------------------------------------------------------------------\n",
    "aligned_df['chunk_duration'] = aligned_df['end_time'] - aligned_df['start_time']\n",
    "\n",
    "plt.figure()\n",
    "aligned_df['chunk_duration'].hist(bins=30)\n",
    "plt.title(\"Distribution of Chunk Durations\")\n",
    "plt.xlabel(\"Duration (s)\")\n",
    "plt.ylabel(\"Frequency\")\n",
    "plt.grid(True)\n",
    "plt.tight_layout()\n",
    "plt.show()\n",
    "\n",
    "print(\"\\nSummary stats for chunk durations:\")\n",
    "print(aligned_df['chunk_duration'].describe())"
   ]
  },
  {
   "cell_type": "code",
   "execution_count": 9,
   "id": "e4ec6127-37dd-4a1a-be9d-ec1db8def1c3",
   "metadata": {
    "tags": []
   },
   "outputs": [],
   "source": [
    "# --------------------------------------------------------------------\n",
    "# PROMPT DEFINITIONS FOR SCORING FUNCTIONS\n",
    "# --------------------------------------------------------------------\n",
    "\n",
    "scoring_prompt= \"\"\"You are an expert in cognitive psychology.\n",
    "\n",
    "You are given a short chunk of a participant's think-aloud transcription during a reasoning task.\n",
    "\n",
    "Your task is to rate how strongly this chunk expresses each of the following deliberation functions.\n",
    "\n",
    "Definitions:\n",
    "\n",
    "- Response Control: Refers to deliberately inhibiting or suppressing a generated response when it is deemed inappropriate for the given context. It often involves avoiding immediate reaction or blocking a response.\n",
    "\n",
    "- Response Generation: Refers to actively generating new answers through the deliberate computation or mental simulation of solutions to a given problem. It often involves hypothetical thinking, algorithmic reasoning, or systematically working through steps to find solutions to a problem. \n",
    "\n",
    "- Response Justification: Refers to deliberately seeking explicit reasons, arguments, or rationalizations to support or scrutinize generated answers. It entails building explanations that clarify, validate or invalidate one’s judgments. It often involves giving reasons, referencing evidence, or explaining why an option makes sense or not.\n",
    "\n",
    "- Response Regulation: Refers to deliberately monitoring and managing one’s own cognitive processes by allocating effort and resources strategically. It often involves reflective decisions about continuing or stopping deliberation, adjusting cognitive investment, or evaluating progress and coherence. \n",
    "Important Instructions:\n",
    "\n",
    "- Each score should reflect the extent to which the chunk expresses the function using a continuous scale from 0 (not at all present) to 100 (extremely present).\n",
    "- These functions are distinct, but not mutually exclusive — a chunk might score highly on multiple functions if they co-occur.\n",
    "- If the chunk contains no trace of any of these 4 functions, assign 0 to all functions. This is perfectly acceptable.\n",
    "- If the chunk expresses a completely different kind of function (not captured by the 4 above), do not mention it.\n",
    "- Do not explain or justify the scores even if the chunk clearly expresses a different kind of function.\n",
    "\n",
    "Output strictly in this structure (and nothing else):\n",
    "\n",
    "Response Control: [score between 0 and 100]  \n",
    "Response Generation: [score between 0 and 100]  \n",
    "Response Justification: [score between 0 and 100]  \n",
    "Response Regulation: [score between 0 and 100]  \n",
    "\"\"\"\n",
    "\n",
    "\n",
    "# Repetition and Consolidation\n",
    "scoring_prompt_repetition = \"\"\"\n",
    "You are an expert in cognitive psychology.\n",
    "\n",
    "You are given a short chunk of a participant's think-aloud transcription during a reasoning task.\n",
    "\n",
    "Your task is to assess the presence of the following behavior:\n",
    "\n",
    "**Repetition**  \n",
    "Repetition refers to the mere repetition of information — such as repeating the question or response options.\n",
    "\n",
    "Instructions:\n",
    "- Score how strongly this behavior is present on a scale from 0 (not at all present) to 100 (extremely present).\n",
    "- If the chunk contains no trace of this behavior, assign 0. This is perfectly acceptable.\n",
    "- Output only the numeric score, no explanation.\n",
    "\"\"\"\n",
    "\n",
    "scoring_prompt_answer_selection = \"\"\"\n",
    "You are an expert in cognitive psychology.\n",
    "\n",
    "You are given a short chunk of a participant's think-aloud transcription during a reasoning task.\n",
    "\n",
    "Your task is to assess the presence of the following behavior:\n",
    "\n",
    "**Answer Selection**  \n",
    "Answer Selection refers to the participant selecting their chosen response option.\n",
    "\n",
    "Instructions:\n",
    "- Score how strongly this behavior is present on a scale from 0 (not at all present) to 100 (extremely present).\n",
    "- If the chunk contains no trace of this behavior, assign 0. This is perfectly acceptable.\n",
    "- Output only the numeric score, no explanation.\n",
    "\"\"\"\n",
    "\n",
    "# Confidence (no question context)\n",
    "scoring_prompt_confidence = \"\"\"\n",
    "You are given a short chunk of a participant's think-aloud reasoning.\n",
    "\n",
    "Estimate how confident the speaker sounds in this passage — based on how committed they seem to their ideas, how certain they appear, and whether they express doubt or hesitation.\n",
    "\n",
    "Instructions:\n",
    "- Give a score between 0 (not confident at all) and 100 (extremely confident).\n",
    "- If you are uncertain, choose a midpoint score around 50.\n",
    "- Output only the numeric score.\n",
    "\"\"\""
   ]
  },
  {
   "cell_type": "code",
   "execution_count": null,
   "id": "01f2d355-49ac-41d8-8226-f6c91a7950c9",
   "metadata": {
    "tags": []
   },
   "outputs": [
    {
     "name": "stderr",
     "output_type": "stream",
     "text": [
      "Scoring:   1%|          | 50/4011 [02:01<2:37:01,  2.38s/it]"
     ]
    },
    {
     "name": "stdout",
     "output_type": "stream",
     "text": [
      "💾  Checkpoint written at chunk 50\n"
     ]
    },
    {
     "name": "stderr",
     "output_type": "stream",
     "text": [
      "Scoring:   2%|▏         | 100/4011 [04:10<2:48:57,  2.59s/it]"
     ]
    },
    {
     "name": "stdout",
     "output_type": "stream",
     "text": [
      "💾  Checkpoint written at chunk 100\n"
     ]
    },
    {
     "name": "stderr",
     "output_type": "stream",
     "text": [
      "Scoring:   3%|▎         | 125/4011 [05:12<2:44:50,  2.55s/it]"
     ]
    },
    {
     "name": "stdout",
     "output_type": "stream",
     "text": [
      "⚠️  LLM API call failed (attempt 1/4): 503 Server Error: Service Temporarily Unavailable for url: https://api.together.xyz/v1/chat/completions\n",
      "\n",
      "{'message': 'Service unavailable', 'type': 'service_unavailable'}\n",
      "   ↪️  Offending chunk:\n",
      "Here is the question the participant was solving:\n",
      "\n",
      "'A monkey, a squirrel, and a bird are racing to the top of a coconut tree. Who will get the banana first?'\n",
      "\n",
      "The incorrect, intuitive answer is: 'Any animal'\n",
      "The correct answer is: 'No banana on coconut tree'\n",
      "\n",
      "Here is the current chunk of the transcription:\n",
      "\n",
      "'Who will get the banana first, the monkey, the squirrel or the bird?'\n",
      "   ⏳ Waiting 60s before retrying…\n"
     ]
    },
    {
     "name": "stderr",
     "output_type": "stream",
     "text": [
      "Scoring:   4%|▎         | 150/4011 [07:24<4:05:19,  3.81s/it] "
     ]
    },
    {
     "name": "stdout",
     "output_type": "stream",
     "text": [
      "💾  Checkpoint written at chunk 150\n"
     ]
    },
    {
     "name": "stderr",
     "output_type": "stream",
     "text": [
      "Scoring:   5%|▍         | 200/4011 [09:19<2:23:47,  2.26s/it]"
     ]
    },
    {
     "name": "stdout",
     "output_type": "stream",
     "text": [
      "💾  Checkpoint written at chunk 200\n"
     ]
    },
    {
     "name": "stderr",
     "output_type": "stream",
     "text": [
      "Scoring:   6%|▌         | 250/4011 [11:39<3:07:55,  3.00s/it]"
     ]
    },
    {
     "name": "stdout",
     "output_type": "stream",
     "text": [
      "💾  Checkpoint written at chunk 250\n"
     ]
    },
    {
     "name": "stderr",
     "output_type": "stream",
     "text": [
      "Scoring:   7%|▋         | 300/4011 [14:13<2:38:09,  2.56s/it]"
     ]
    },
    {
     "name": "stdout",
     "output_type": "stream",
     "text": [
      "💾  Checkpoint written at chunk 300\n"
     ]
    },
    {
     "name": "stderr",
     "output_type": "stream",
     "text": [
      "Scoring:   9%|▊         | 350/4011 [16:32<2:40:33,  2.63s/it]"
     ]
    },
    {
     "name": "stdout",
     "output_type": "stream",
     "text": [
      "💾  Checkpoint written at chunk 350\n"
     ]
    },
    {
     "name": "stderr",
     "output_type": "stream",
     "text": [
      "Scoring:  10%|▉         | 400/4011 [18:36<1:50:58,  1.84s/it]"
     ]
    },
    {
     "name": "stdout",
     "output_type": "stream",
     "text": [
      "💾  Checkpoint written at chunk 400\n"
     ]
    },
    {
     "name": "stderr",
     "output_type": "stream",
     "text": [
      "Scoring:  11%|█         | 450/4011 [20:22<1:56:52,  1.97s/it]"
     ]
    },
    {
     "name": "stdout",
     "output_type": "stream",
     "text": [
      "💾  Checkpoint written at chunk 450\n"
     ]
    },
    {
     "name": "stderr",
     "output_type": "stream",
     "text": [
      "Scoring:  12%|█▏        | 500/4011 [22:20<2:10:35,  2.23s/it]"
     ]
    },
    {
     "name": "stdout",
     "output_type": "stream",
     "text": [
      "💾  Checkpoint written at chunk 500\n"
     ]
    },
    {
     "name": "stderr",
     "output_type": "stream",
     "text": [
      "Scoring:  13%|█▎        | 511/4011 [22:46<2:12:32,  2.27s/it]"
     ]
    },
    {
     "name": "stdout",
     "output_type": "stream",
     "text": [
      "⚠️  LLM API call failed (attempt 1/4): (ProtocolError('Connection aborted.', RemoteDisconnected('Remote end closed connection without response')), '(Request ID: f9e31ed5-1571-456c-a4e4-23d019137e26)')\n",
      "   ↪️  Offending chunk:\n",
      "Here is the question the participant was solving:\n",
      "\n",
      "'Mary’s father has 5 daughters but no sons—Nana, Nene, Nini, Nono. What is the fifth daughter’s name probably?'\n",
      "\n",
      "The incorrect, intuitive answer is: 'Nunu'\n",
      "The correct answer is: 'Mary'\n",
      "\n",
      "Here is the current chunk of the transcription:\n",
      "\n",
      "'What is the fifth daughter's name probably'\n",
      "   ⏳ Waiting 60s before retrying…\n"
     ]
    },
    {
     "name": "stderr",
     "output_type": "stream",
     "text": [
      "Scoring:  14%|█▎        | 550/4011 [25:12<2:01:50,  2.11s/it] "
     ]
    },
    {
     "name": "stdout",
     "output_type": "stream",
     "text": [
      "💾  Checkpoint written at chunk 550\n"
     ]
    },
    {
     "name": "stderr",
     "output_type": "stream",
     "text": [
      "Scoring:  15%|█▍        | 600/4011 [27:09<2:27:48,  2.60s/it]"
     ]
    },
    {
     "name": "stdout",
     "output_type": "stream",
     "text": [
      "💾  Checkpoint written at chunk 600\n"
     ]
    },
    {
     "name": "stderr",
     "output_type": "stream",
     "text": [
      "Scoring:  16%|█▌        | 642/4011 [29:21<8:34:20,  9.16s/it]"
     ]
    },
    {
     "name": "stdout",
     "output_type": "stream",
     "text": [
      "⚠️  LLM API call failed (attempt 1/4): 500 Server Error: Internal Server Error for url: https://api.together.xyz/v1/chat/completions (Request ID: nrv2t1F-2j9zxn-937776aedbb174cd)\n",
      "\n",
      "{'message': 'Internal server error', 'type': 'server_error', 'param': None, 'code': None}\n",
      "   ↪️  Offending chunk:\n",
      "Here is the question the participant was solving:\n",
      "\n",
      "'It’s a stormy night and a plane crashes - in which country do you bury the survivors?'\n",
      "\n",
      "The incorrect, intuitive answer is: 'Burial location'\n",
      "The correct answer is: 'Don't bury survivors'\n",
      "\n",
      "Here is the current chunk of the transcription:\n",
      "\n",
      "'I don't know.'\n",
      "   ⏳ Waiting 60s before retrying…\n"
     ]
    },
    {
     "name": "stderr",
     "output_type": "stream",
     "text": [
      "Scoring:  16%|█▌        | 650/4011 [30:48<4:07:51,  4.42s/it] "
     ]
    },
    {
     "name": "stdout",
     "output_type": "stream",
     "text": [
      "💾  Checkpoint written at chunk 650\n"
     ]
    },
    {
     "name": "stderr",
     "output_type": "stream",
     "text": [
      "Scoring:  17%|█▋        | 700/4011 [33:07<2:10:56,  2.37s/it]"
     ]
    },
    {
     "name": "stdout",
     "output_type": "stream",
     "text": [
      "💾  Checkpoint written at chunk 700\n"
     ]
    },
    {
     "name": "stderr",
     "output_type": "stream",
     "text": [
      "Scoring:  19%|█▊        | 750/4011 [35:16<1:50:15,  2.03s/it]"
     ]
    },
    {
     "name": "stdout",
     "output_type": "stream",
     "text": [
      "💾  Checkpoint written at chunk 750\n"
     ]
    },
    {
     "name": "stderr",
     "output_type": "stream",
     "text": [
      "Scoring:  20%|█▉        | 800/4011 [37:16<2:52:54,  3.23s/it]"
     ]
    },
    {
     "name": "stdout",
     "output_type": "stream",
     "text": [
      "💾  Checkpoint written at chunk 800\n"
     ]
    },
    {
     "name": "stderr",
     "output_type": "stream",
     "text": [
      "Scoring:  21%|██        | 850/4011 [39:26<2:06:22,  2.40s/it]"
     ]
    },
    {
     "name": "stdout",
     "output_type": "stream",
     "text": [
      "💾  Checkpoint written at chunk 850\n"
     ]
    },
    {
     "name": "stderr",
     "output_type": "stream",
     "text": [
      "Scoring:  22%|██▏       | 900/4011 [41:27<2:00:34,  2.33s/it]"
     ]
    },
    {
     "name": "stdout",
     "output_type": "stream",
     "text": [
      "💾  Checkpoint written at chunk 900\n"
     ]
    },
    {
     "name": "stderr",
     "output_type": "stream",
     "text": [
      "Scoring:  24%|██▎       | 950/4011 [43:26<2:04:23,  2.44s/it]"
     ]
    },
    {
     "name": "stdout",
     "output_type": "stream",
     "text": [
      "💾  Checkpoint written at chunk 950\n"
     ]
    },
    {
     "name": "stderr",
     "output_type": "stream",
     "text": [
      "Scoring:  25%|██▍       | 1000/4011 [45:37<1:49:31,  2.18s/it]"
     ]
    },
    {
     "name": "stdout",
     "output_type": "stream",
     "text": [
      "💾  Checkpoint written at chunk 1000\n"
     ]
    },
    {
     "name": "stderr",
     "output_type": "stream",
     "text": [
      "Scoring:  26%|██▌       | 1050/4011 [48:14<1:53:21,  2.30s/it]"
     ]
    },
    {
     "name": "stdout",
     "output_type": "stream",
     "text": [
      "💾  Checkpoint written at chunk 1050\n"
     ]
    },
    {
     "name": "stderr",
     "output_type": "stream",
     "text": [
      "Scoring:  27%|██▋       | 1097/4011 [50:38<5:50:21,  7.21s/it]"
     ]
    },
    {
     "name": "stdout",
     "output_type": "stream",
     "text": [
      "⚠️  LLM API call failed (attempt 1/4): 500 Server Error: Internal Server Error for url: https://api.together.xyz/v1/chat/completions (Request ID: nrv9TEK-2j9zxn-937795fe0b37d0bb)\n",
      "\n",
      "{'message': 'Internal server error', 'type': 'server_error', 'param': None, 'code': None}\n",
      "   ↪️  Offending chunk:\n",
      "Here is the question the participant was solving:\n",
      "\n",
      "'If you have only one match and you walk into a dark room with an oil lamp, a newspaper and wood—which thing would you light first?'\n",
      "\n",
      "The incorrect, intuitive answer is: 'Oil lamp / Newspaper / Wood'\n",
      "The correct answer is: 'Match'\n",
      "\n",
      "Here is the current chunk of the transcription:\n",
      "\n",
      "'You would light the match.'\n",
      "   ⏳ Waiting 60s before retrying…\n"
     ]
    },
    {
     "name": "stderr",
     "output_type": "stream",
     "text": [
      "Scoring:  27%|██▋       | 1100/4011 [51:53<11:18:21, 13.98s/it]"
     ]
    },
    {
     "name": "stdout",
     "output_type": "stream",
     "text": [
      "💾  Checkpoint written at chunk 1100\n"
     ]
    },
    {
     "name": "stderr",
     "output_type": "stream",
     "text": [
      "Scoring:  29%|██▊       | 1150/4011 [54:01<1:47:06,  2.25s/it] "
     ]
    },
    {
     "name": "stdout",
     "output_type": "stream",
     "text": [
      "💾  Checkpoint written at chunk 1150\n"
     ]
    },
    {
     "name": "stderr",
     "output_type": "stream",
     "text": [
      "Scoring:  30%|██▉       | 1200/4011 [55:58<1:31:51,  1.96s/it]"
     ]
    },
    {
     "name": "stdout",
     "output_type": "stream",
     "text": [
      "💾  Checkpoint written at chunk 1200\n"
     ]
    },
    {
     "name": "stderr",
     "output_type": "stream",
     "text": [
      "Scoring:  31%|███       | 1250/4011 [57:56<1:49:13,  2.37s/it]"
     ]
    },
    {
     "name": "stdout",
     "output_type": "stream",
     "text": [
      "💾  Checkpoint written at chunk 1250\n"
     ]
    },
    {
     "name": "stderr",
     "output_type": "stream",
     "text": [
      "Scoring:  32%|███▏      | 1300/4011 [1:00:13<2:12:53,  2.94s/it]"
     ]
    },
    {
     "name": "stdout",
     "output_type": "stream",
     "text": [
      "💾  Checkpoint written at chunk 1300\n"
     ]
    },
    {
     "name": "stderr",
     "output_type": "stream",
     "text": [
      "Scoring:  34%|███▎      | 1350/4011 [1:02:25<1:48:53,  2.46s/it]"
     ]
    },
    {
     "name": "stdout",
     "output_type": "stream",
     "text": [
      "💾  Checkpoint written at chunk 1350\n"
     ]
    },
    {
     "name": "stderr",
     "output_type": "stream",
     "text": [
      "Scoring:  35%|███▍      | 1389/4011 [1:04:22<5:01:36,  6.90s/it]"
     ]
    },
    {
     "name": "stdout",
     "output_type": "stream",
     "text": [
      "⚠️  LLM API call failed (attempt 1/4): 500 Server Error: Internal Server Error for url: https://api.together.xyz/v1/chat/completions (Request ID: nrvDeXM-2j9zxn-9377a9f95a649ec6)\n",
      "\n",
      "{'message': 'Internal server error', 'type': 'server_error', 'param': None, 'code': None}\n",
      "   ↪️  Offending chunk:\n",
      "Here is the question the participant was solving:\n",
      "\n",
      "'Would it be ethical for a man to marry the sister of his widow?'\n",
      "\n",
      "The incorrect, intuitive answer is: 'Yes / No'\n",
      "The correct answer is: 'Not possible'\n",
      "\n",
      "Here is the current chunk of the transcription:\n",
      "\n",
      "'Would it be ethical for a man to marry the sister of his widow? The sister of his widow.'\n",
      "   ⏳ Waiting 60s before retrying…\n"
     ]
    },
    {
     "name": "stderr",
     "output_type": "stream",
     "text": [
      "Scoring:  35%|███▍      | 1394/4011 [1:05:42<6:36:21,  9.09s/it] "
     ]
    },
    {
     "name": "stdout",
     "output_type": "stream",
     "text": [
      "⚠️  LLM API call failed (attempt 1/4): 500 Server Error: Internal Server Error for url: https://api.together.xyz/v1/chat/completions (Request ID: nrvE47p-3NKUce-9377abe8df2b9ec6)\n",
      "\n",
      "{'message': 'Internal server error', 'type': 'server_error', 'param': None, 'code': None}\n",
      "   ↪️  Offending chunk:\n",
      "Here is the question the participant was solving:\n",
      "\n",
      "'Would it be ethical for a man to marry the sister of his widow?'\n",
      "\n",
      "The incorrect, intuitive answer is: 'Yes / No'\n",
      "The correct answer is: 'Not possible'\n",
      "\n",
      "Here is the current chunk of the transcription:\n",
      "\n",
      "'To marry the sister of his widow.'\n",
      "   ⏳ Waiting 60s before retrying…\n"
     ]
    },
    {
     "name": "stderr",
     "output_type": "stream",
     "text": [
      "Scoring:  35%|███▍      | 1400/4011 [1:06:55<4:23:01,  6.04s/it] "
     ]
    },
    {
     "name": "stdout",
     "output_type": "stream",
     "text": [
      "💾  Checkpoint written at chunk 1400\n"
     ]
    },
    {
     "name": "stderr",
     "output_type": "stream",
     "text": [
      "Scoring:  36%|███▌      | 1450/4011 [1:08:49<1:19:02,  1.85s/it]"
     ]
    },
    {
     "name": "stdout",
     "output_type": "stream",
     "text": [
      "💾  Checkpoint written at chunk 1450\n"
     ]
    },
    {
     "name": "stderr",
     "output_type": "stream",
     "text": [
      "Scoring:  37%|███▋      | 1500/4011 [1:10:54<1:52:30,  2.69s/it]"
     ]
    },
    {
     "name": "stdout",
     "output_type": "stream",
     "text": [
      "💾  Checkpoint written at chunk 1500\n"
     ]
    },
    {
     "name": "stderr",
     "output_type": "stream",
     "text": [
      "Scoring:  39%|███▊      | 1550/4011 [1:12:56<1:59:16,  2.91s/it]"
     ]
    },
    {
     "name": "stdout",
     "output_type": "stream",
     "text": [
      "💾  Checkpoint written at chunk 1550\n"
     ]
    },
    {
     "name": "stderr",
     "output_type": "stream",
     "text": [
      "Scoring:  40%|███▉      | 1600/4011 [1:15:04<1:32:30,  2.30s/it]"
     ]
    },
    {
     "name": "stdout",
     "output_type": "stream",
     "text": [
      "💾  Checkpoint written at chunk 1600\n"
     ]
    },
    {
     "name": "stderr",
     "output_type": "stream",
     "text": [
      "Scoring:  41%|████      | 1650/4011 [1:16:53<1:20:00,  2.03s/it]"
     ]
    },
    {
     "name": "stdout",
     "output_type": "stream",
     "text": [
      "💾  Checkpoint written at chunk 1650\n"
     ]
    },
    {
     "name": "stderr",
     "output_type": "stream",
     "text": [
      "Scoring:  42%|████▏     | 1700/4011 [1:18:37<1:23:41,  2.17s/it]"
     ]
    },
    {
     "name": "stdout",
     "output_type": "stream",
     "text": [
      "💾  Checkpoint written at chunk 1700\n"
     ]
    },
    {
     "name": "stderr",
     "output_type": "stream",
     "text": [
      "Scoring:  44%|████▎     | 1750/4011 [1:20:25<1:31:18,  2.42s/it]"
     ]
    },
    {
     "name": "stdout",
     "output_type": "stream",
     "text": [
      "💾  Checkpoint written at chunk 1750\n"
     ]
    },
    {
     "name": "stderr",
     "output_type": "stream",
     "text": [
      "Scoring:  45%|████▍     | 1793/4011 [1:22:16<1:31:18,  2.47s/it]"
     ]
    },
    {
     "name": "stdout",
     "output_type": "stream",
     "text": [
      "⚠️  LLM API call failed (attempt 1/4): 503 Server Error: Service Unavailable for url: https://api.together.xyz/v1/chat/completions (Request ID: nrvKAFB-2j9zxn-9377c439fa7ba649)\n",
      "\n",
      "{'message': 'Service unavailable', 'type': 'service_unavailable', 'param': None, 'code': None}\n",
      "   ↪️  Offending chunk:\n",
      "'So what are you asking me? I don't know.'\n",
      "   ⏳ Waiting 60s before retrying…\n"
     ]
    },
    {
     "name": "stderr",
     "output_type": "stream",
     "text": [
      "Scoring:  45%|████▍     | 1800/4011 [1:23:34<2:44:51,  4.47s/it] "
     ]
    },
    {
     "name": "stdout",
     "output_type": "stream",
     "text": [
      "💾  Checkpoint written at chunk 1800\n"
     ]
    },
    {
     "name": "stderr",
     "output_type": "stream",
     "text": [
      "Scoring:  45%|████▌     | 1811/4011 [1:24:06<1:43:10,  2.81s/it]"
     ]
    },
    {
     "name": "stdout",
     "output_type": "stream",
     "text": [
      "⚠️  LLM API call failed (attempt 1/4): 503 Server Error: Service Unavailable for url: https://api.together.xyz/v1/chat/completions (Request ID: nrvKjCJ-3NKUce-9377c6efec6da649)\n",
      "\n",
      "{'message': 'Service unavailable', 'type': 'service_unavailable', 'param': None, 'code': None}\n",
      "   ↪️  Offending chunk:\n",
      "'The monkey, the squirrel or the bird?'\n",
      "   ⏳ Waiting 60s before retrying…\n"
     ]
    },
    {
     "name": "stderr",
     "output_type": "stream",
     "text": [
      "Scoring:  45%|████▌     | 1816/4011 [1:25:23<4:29:42,  7.37s/it] "
     ]
    },
    {
     "name": "stdout",
     "output_type": "stream",
     "text": [
      "⚠️  LLM API call failed (attempt 1/4): 503 Server Error: Service Unavailable for url: https://api.together.xyz/v1/chat/completions (Request ID: nrvL7PJ-3NKUce-9377c8c0b9a2a649)\n",
      "\n",
      "{'message': 'Service unavailable', 'type': 'service_unavailable', 'param': None, 'code': None}\n",
      "   ↪️  Offending chunk:\n",
      "Here is the question the participant was solving:\n",
      "\n",
      "'In a one-storey pink house with everything pink, what colour were the stairs probably?'\n",
      "\n",
      "The incorrect, intuitive answer is: 'Pink'\n",
      "The correct answer is: 'No stairs'\n",
      "\n",
      "Here is the current chunk of the transcription:\n",
      "\n",
      "'In a one-starry pink house, there was a pink person, a pink cat, a pink fish, a pink chair, a pink tablecloth.'\n",
      "   ⏳ Waiting 60s before retrying…\n"
     ]
    },
    {
     "name": "stderr",
     "output_type": "stream",
     "text": [
      "Scoring:  46%|████▌     | 1842/4011 [1:27:28<1:13:04,  2.02s/it] "
     ]
    },
    {
     "name": "stdout",
     "output_type": "stream",
     "text": [
      "⚠️  LLM API call failed (attempt 1/4): 503 Server Error: Service Unavailable for url: https://api.together.xyz/v1/chat/completions (Request ID: nrvLkrg-2j9zxn-9377cbd69964a649)\n",
      "\n",
      "{'message': 'Service unavailable', 'type': 'service_unavailable', 'param': None, 'code': None}\n",
      "   ↪️  Offending chunk:\n",
      "Here is the question the participant was solving:\n",
      "\n",
      "'It’s a stormy night and a plane crashes - in which country do you bury the survivors?'\n",
      "\n",
      "The incorrect, intuitive answer is: 'Burial location'\n",
      "The correct answer is: 'Don't bury survivors'\n",
      "\n",
      "Here is the current chunk of the transcription:\n",
      "\n",
      "'Don't forget to keep reading and thinking aloud in America.'\n",
      "   ⏳ Waiting 60s before retrying…\n"
     ]
    },
    {
     "name": "stderr",
     "output_type": "stream",
     "text": [
      "Scoring:  46%|████▌     | 1850/4011 [1:28:47<2:16:24,  3.79s/it] "
     ]
    },
    {
     "name": "stdout",
     "output_type": "stream",
     "text": [
      "💾  Checkpoint written at chunk 1850\n"
     ]
    },
    {
     "name": "stderr",
     "output_type": "stream",
     "text": [
      "Scoring:  47%|████▋     | 1900/4011 [1:30:35<1:22:02,  2.33s/it]"
     ]
    },
    {
     "name": "stdout",
     "output_type": "stream",
     "text": [
      "💾  Checkpoint written at chunk 1900\n"
     ]
    },
    {
     "name": "stderr",
     "output_type": "stream",
     "text": [
      "Scoring:  49%|████▊     | 1950/4011 [1:32:32<1:48:45,  3.17s/it]"
     ]
    },
    {
     "name": "stdout",
     "output_type": "stream",
     "text": [
      "💾  Checkpoint written at chunk 1950\n"
     ]
    },
    {
     "name": "stderr",
     "output_type": "stream",
     "text": [
      "Scoring:  49%|████▉     | 1962/4011 [1:32:56<1:09:27,  2.03s/it]"
     ]
    },
    {
     "name": "stdout",
     "output_type": "stream",
     "text": [
      "⚠️  LLM API call failed (attempt 1/4): 500 Server Error: Internal Server Error for url: https://api.together.xyz/v1/chat/completions (Request ID: nrvNSYA-2j9zxn-9377d3daec7ca649)\n",
      "\n",
      "{'message': 'Internal server error', 'type': 'server_error', 'param': None, 'code': None}\n",
      "   ↪️  Offending chunk:\n",
      "Here is the question the participant was solving:\n",
      "\n",
      "'Which sentence is correct: (a) 'the yolk of the egg are white' or (b) 'the yolk of the egg is white'?'\n",
      "\n",
      "The incorrect, intuitive answer is: 'b'\n",
      "The correct answer is: 'The yolk is yellow'\n",
      "\n",
      "Here is the current chunk of the transcription:\n",
      "\n",
      "'Well, the yolk is actually yellow, so neither sentence would be correct.'\n",
      "   ⏳ Waiting 60s before retrying…\n"
     ]
    },
    {
     "name": "stderr",
     "output_type": "stream",
     "text": [
      "Scoring:  50%|████▉     | 2000/4011 [1:35:59<1:34:49,  2.83s/it] "
     ]
    },
    {
     "name": "stdout",
     "output_type": "stream",
     "text": [
      "💾  Checkpoint written at chunk 2000\n"
     ]
    },
    {
     "name": "stderr",
     "output_type": "stream",
     "text": [
      "Scoring:  51%|█████     | 2050/4011 [1:38:06<1:12:23,  2.21s/it]"
     ]
    },
    {
     "name": "stdout",
     "output_type": "stream",
     "text": [
      "💾  Checkpoint written at chunk 2050\n"
     ]
    },
    {
     "name": "stderr",
     "output_type": "stream",
     "text": [
      "Scoring:  52%|█████▏    | 2072/4011 [1:39:05<1:22:37,  2.56s/it]"
     ]
    },
    {
     "name": "stdout",
     "output_type": "stream",
     "text": [
      "⚠️  LLM API call failed (attempt 1/4): 500 Server Error: Internal Server Error for url: https://api.together.xyz/v1/chat/completions (Request ID: nrvQLBP-3NKUce-9377dcda2bb1d0b6)\n",
      "\n",
      "{'message': 'Internal server error', 'type': 'server_error', 'param': None, 'code': None}\n",
      "   ↪️  Offending chunk:\n",
      "Here is the question the participant was solving:\n",
      "\n",
      "'In a one-storey pink house with everything pink, what colour were the stairs probably?'\n",
      "\n",
      "The incorrect, intuitive answer is: 'Pink'\n",
      "The correct answer is: 'No stairs'\n",
      "\n",
      "Here is the current chunk of the transcription:\n",
      "\n",
      "'There we go.'\n",
      "   ⏳ Waiting 60s before retrying…\n"
     ]
    },
    {
     "name": "stderr",
     "output_type": "stream",
     "text": [
      "Scoring:  52%|█████▏    | 2100/4011 [1:41:14<1:16:25,  2.40s/it] "
     ]
    },
    {
     "name": "stdout",
     "output_type": "stream",
     "text": [
      "💾  Checkpoint written at chunk 2100\n"
     ]
    },
    {
     "name": "stderr",
     "output_type": "stream",
     "text": [
      "Scoring:  52%|█████▏    | 2104/4011 [1:41:24<1:14:13,  2.34s/it]"
     ]
    },
    {
     "name": "stdout",
     "output_type": "stream",
     "text": [
      "⚠️  LLM API call failed (attempt 1/4): 503 Server Error: Service Unavailable for url: https://api.together.xyz/v1/chat/completions (Request ID: nrvR4wg-3NKUce-9377e061acf7d0b6)\n",
      "\n",
      "{'message': 'Service unavailable', 'type': 'service_unavailable', 'param': None, 'code': None}\n",
      "   ↪️  Offending chunk:\n",
      "Here is the question the participant was solving:\n",
      "\n",
      "'Which sentence is correct: (a) 'the yolk of the egg are white' or (b) 'the yolk of the egg is white'?'\n",
      "\n",
      "The incorrect, intuitive answer is: 'b'\n",
      "The correct answer is: 'The yolk is yellow'\n",
      "\n",
      "Here is the current chunk of the transcription:\n",
      "\n",
      "'oh I don't know hang on neither are right other than you've used are and is the yolk egg white the yolk of the egg are white the oak of the egg is white'\n",
      "   ⏳ Waiting 60s before retrying…\n",
      "⚠️  LLM API call failed (attempt 1/4): 500 Server Error: Internal Server Error for url: https://api.together.xyz/v1/chat/completions (Request ID: nrvRP8E-3NKUce-9377e1dfbc83d0b6)\n",
      "\n",
      "{'message': 'Internal server error', 'type': 'server_error', 'param': None, 'code': None}\n",
      "   ↪️  Offending chunk:\n",
      "Here is the question the participant was solving:\n",
      "\n",
      "'Which sentence is correct: (a) 'the yolk of the egg are white' or (b) 'the yolk of the egg is white'?'\n",
      "\n",
      "The incorrect, intuitive answer is: 'b'\n",
      "The correct answer is: 'The yolk is yellow'\n",
      "\n",
      "Here is the current chunk of the transcription:\n",
      "\n",
      "'oh I don't know hang on neither are right other than you've used are and is the yolk egg white the yolk of the egg are white the oak of the egg is white'\n",
      "   ⏳ Waiting 60s before retrying…\n"
     ]
    },
    {
     "name": "stderr",
     "output_type": "stream",
     "text": [
      "Scoring:  54%|█████▎    | 2150/4011 [1:45:37<1:16:09,  2.46s/it] "
     ]
    },
    {
     "name": "stdout",
     "output_type": "stream",
     "text": [
      "💾  Checkpoint written at chunk 2150\n"
     ]
    },
    {
     "name": "stderr",
     "output_type": "stream",
     "text": [
      "Scoring:  55%|█████▍    | 2200/4011 [1:47:32<1:05:29,  2.17s/it]"
     ]
    },
    {
     "name": "stdout",
     "output_type": "stream",
     "text": [
      "💾  Checkpoint written at chunk 2200\n"
     ]
    },
    {
     "name": "stderr",
     "output_type": "stream",
     "text": [
      "Scoring:  56%|█████▌    | 2250/4011 [1:49:49<1:37:50,  3.33s/it]"
     ]
    },
    {
     "name": "stdout",
     "output_type": "stream",
     "text": [
      "💾  Checkpoint written at chunk 2250\n"
     ]
    },
    {
     "name": "stderr",
     "output_type": "stream",
     "text": [
      "Scoring:  57%|█████▋    | 2300/4011 [1:53:26<1:22:02,  2.88s/it]"
     ]
    },
    {
     "name": "stdout",
     "output_type": "stream",
     "text": [
      "💾  Checkpoint written at chunk 2300\n"
     ]
    },
    {
     "name": "stderr",
     "output_type": "stream",
     "text": [
      "Scoring:  59%|█████▊    | 2350/4011 [1:55:49<1:08:01,  2.46s/it]"
     ]
    },
    {
     "name": "stdout",
     "output_type": "stream",
     "text": [
      "💾  Checkpoint written at chunk 2350\n"
     ]
    },
    {
     "name": "stderr",
     "output_type": "stream",
     "text": [
      "Scoring:  60%|█████▉    | 2400/4011 [1:57:43<58:38,  2.18s/it]  "
     ]
    },
    {
     "name": "stdout",
     "output_type": "stream",
     "text": [
      "💾  Checkpoint written at chunk 2400\n"
     ]
    },
    {
     "name": "stderr",
     "output_type": "stream",
     "text": [
      "Scoring:  61%|██████    | 2450/4011 [1:59:44<51:59,  2.00s/it]  "
     ]
    },
    {
     "name": "stdout",
     "output_type": "stream",
     "text": [
      "💾  Checkpoint written at chunk 2450\n"
     ]
    },
    {
     "name": "stderr",
     "output_type": "stream",
     "text": [
      "Scoring:  62%|██████▏   | 2500/4011 [2:01:42<1:09:02,  2.74s/it]"
     ]
    },
    {
     "name": "stdout",
     "output_type": "stream",
     "text": [
      "💾  Checkpoint written at chunk 2500\n"
     ]
    },
    {
     "name": "stderr",
     "output_type": "stream",
     "text": [
      "Scoring:  63%|██████▎   | 2533/4011 [2:03:48<3:07:25,  7.61s/it]"
     ]
    },
    {
     "name": "stdout",
     "output_type": "stream",
     "text": [
      "⚠️  LLM API call failed (attempt 1/4): 503 Server Error: Service Unavailable for url: https://api.together.xyz/v1/chat/completions (Request ID: nrvXwKJ-2j9zxn-937801173959036b)\n",
      "\n",
      "{'message': 'Service unavailable', 'type': 'service_unavailable', 'param': None, 'code': None}\n",
      "   ↪️  Offending chunk:\n",
      "Here is the question the participant was solving:\n",
      "\n",
      "'A monkey, a squirrel, and a bird are racing to the top of a coconut tree. Who will get the banana first?'\n",
      "\n",
      "The incorrect, intuitive answer is: 'Any animal'\n",
      "The correct answer is: 'No banana on coconut tree'\n",
      "\n",
      "Here is the current chunk of the transcription:\n",
      "\n",
      "'So I don't think there's a banana there.'\n",
      "   ⏳ Waiting 60s before retrying…\n"
     ]
    },
    {
     "name": "stderr",
     "output_type": "stream",
     "text": [
      "Scoring:  63%|██████▎   | 2534/4011 [2:05:00<11:03:19, 26.95s/it]"
     ]
    },
    {
     "name": "stdout",
     "output_type": "stream",
     "text": [
      "⚠️  LLM API call failed (attempt 1/4): 500 Server Error: Internal Server Error for url: https://api.together.xyz/v1/chat/completions (Request ID: nrvYHvR-3NKUce-937802c9f8b3036b)\n",
      "\n",
      "{'message': 'Internal server error', 'type': 'server_error', 'param': None, 'code': None}\n",
      "   ↪️  Offending chunk:\n",
      "Here is the question the participant was solving:\n",
      "\n",
      "'A monkey, a squirrel, and a bird are racing to the top of a coconut tree. Who will get the banana first?'\n",
      "\n",
      "The incorrect, intuitive answer is: 'Any animal'\n",
      "The correct answer is: 'No banana on coconut tree'\n",
      "\n",
      "Here is the current chunk of the transcription:\n",
      "\n",
      "'So none of them is the answer.'\n",
      "   ⏳ Waiting 60s before retrying…\n",
      "⚠️  LLM API call failed (attempt 1/4): 503 Server Error: Service Unavailable for url: https://api.together.xyz/v1/chat/completions (Request ID: nrvYd8e-3NKUce-9378045c1d4d036b)\n",
      "\n",
      "{'message': 'Service unavailable', 'type': 'service_unavailable', 'param': None, 'code': None}\n",
      "   ↪️  Offending chunk:\n",
      "'So none of them is the answer.'\n",
      "   ⏳ Waiting 60s before retrying…\n"
     ]
    },
    {
     "name": "stderr",
     "output_type": "stream",
     "text": [
      "Scoring:  63%|██████▎   | 2541/4011 [2:08:59<10:34:57, 25.92s/it]"
     ]
    },
    {
     "name": "stdout",
     "output_type": "stream",
     "text": [
      "⚠️  LLM API call failed (attempt 1/4): 503 Server Error: Service Unavailable for url: https://api.together.xyz/v1/chat/completions (Request ID: nrvZX3q-3NKUce-9378089cfa86036b)\n",
      "\n",
      "{'message': 'Service unavailable', 'type': 'service_unavailable', 'param': None, 'code': None}\n",
      "   ↪️  Offending chunk:\n",
      "Here is the question the participant was solving:\n",
      "\n",
      "'How many of each animal did Moses put on the ark?'\n",
      "\n",
      "The incorrect, intuitive answer is: 'Two'\n",
      "The correct answer is: 'nan'\n",
      "\n",
      "Here is the current chunk of the transcription:\n",
      "\n",
      "'He put two of each animal.'\n",
      "   ⏳ Waiting 60s before retrying…\n",
      "⚠️  LLM API call failed (attempt 1/4): 500 Server Error: Internal Server Error for url: https://api.together.xyz/v1/chat/completions (Request ID: nrvZqgN-3NKUce-93780a29d887036b)\n",
      "\n",
      "{'message': 'Internal server error', 'type': 'server_error', 'param': None, 'code': None}\n",
      "   ↪️  Offending chunk:\n",
      "Here is the question the participant was solving:\n",
      "\n",
      "'How many of each animal did Moses put on the ark?'\n",
      "\n",
      "The incorrect, intuitive answer is: 'Two'\n",
      "The correct answer is: 'nan'\n",
      "\n",
      "Here is the current chunk of the transcription:\n",
      "\n",
      "'He put two of each animal.'\n",
      "   ⏳ Waiting 60s before retrying…\n"
     ]
    },
    {
     "name": "stderr",
     "output_type": "stream",
     "text": [
      "Scoring:  63%|██████▎   | 2544/4011 [2:11:41<14:17:54, 35.09s/it]"
     ]
    },
    {
     "name": "stdout",
     "output_type": "stream",
     "text": [
      "⚠️  LLM API call failed (attempt 1/4): 503 Server Error: Service Unavailable for url: https://api.together.xyz/v1/chat/completions (Request ID: nrvaNU7-2j9zxn-93780cb02c36036b)\n",
      "\n",
      "{'message': 'Service unavailable', 'type': 'service_unavailable', 'param': None, 'code': None}\n",
      "   ↪️  Offending chunk:\n",
      "Here is the question the participant was solving:\n",
      "\n",
      "'The wind blows west. An electric train runs east. In which direction does the smoke blow?'\n",
      "\n",
      "The incorrect, intuitive answer is: 'West'\n",
      "The correct answer is: 'No smoke'\n",
      "\n",
      "Here is the current chunk of the transcription:\n",
      "\n",
      "'The wind blows west. An electric train runs east. In which cardinal direction does the smoke from the locomotive blow?'\n",
      "   ⏳ Waiting 60s before retrying…\n"
     ]
    },
    {
     "name": "stderr",
     "output_type": "stream",
     "text": [
      "Scoring:  64%|██████▎   | 2550/4011 [2:13:24<4:57:07, 12.20s/it] "
     ]
    },
    {
     "name": "stdout",
     "output_type": "stream",
     "text": [
      "💾  Checkpoint written at chunk 2550\n"
     ]
    },
    {
     "name": "stderr",
     "output_type": "stream",
     "text": [
      "Scoring:  65%|██████▍   | 2600/4011 [2:18:53<1:24:13,  3.58s/it]"
     ]
    },
    {
     "name": "stdout",
     "output_type": "stream",
     "text": [
      "💾  Checkpoint written at chunk 2600\n"
     ]
    },
    {
     "name": "stderr",
     "output_type": "stream",
     "text": [
      "Scoring:  66%|██████▌   | 2650/4011 [2:21:33<50:14,  2.21s/it]  "
     ]
    },
    {
     "name": "stdout",
     "output_type": "stream",
     "text": [
      "💾  Checkpoint written at chunk 2650\n"
     ]
    },
    {
     "name": "stderr",
     "output_type": "stream",
     "text": [
      "Scoring:  67%|██████▋   | 2700/4011 [2:23:59<1:17:39,  3.55s/it]"
     ]
    },
    {
     "name": "stdout",
     "output_type": "stream",
     "text": [
      "💾  Checkpoint written at chunk 2700\n"
     ]
    },
    {
     "name": "stderr",
     "output_type": "stream",
     "text": [
      "Scoring:  69%|██████▊   | 2750/4011 [2:26:28<53:48,  2.56s/it]  "
     ]
    },
    {
     "name": "stdout",
     "output_type": "stream",
     "text": [
      "💾  Checkpoint written at chunk 2750\n"
     ]
    },
    {
     "name": "stderr",
     "output_type": "stream",
     "text": [
      "Scoring:  70%|██████▉   | 2800/4011 [2:28:54<45:56,  2.28s/it]  "
     ]
    },
    {
     "name": "stdout",
     "output_type": "stream",
     "text": [
      "💾  Checkpoint written at chunk 2800\n"
     ]
    },
    {
     "name": "stderr",
     "output_type": "stream",
     "text": [
      "Scoring:  71%|███████   | 2850/4011 [2:31:19<50:41,  2.62s/it]  "
     ]
    },
    {
     "name": "stdout",
     "output_type": "stream",
     "text": [
      "💾  Checkpoint written at chunk 2850\n"
     ]
    },
    {
     "name": "stderr",
     "output_type": "stream",
     "text": [
      "Scoring:  72%|███████▏  | 2900/4011 [2:33:57<1:05:21,  3.53s/it]"
     ]
    },
    {
     "name": "stdout",
     "output_type": "stream",
     "text": [
      "💾  Checkpoint written at chunk 2900\n"
     ]
    },
    {
     "name": "stderr",
     "output_type": "stream",
     "text": [
      "Scoring:  73%|███████▎  | 2921/4011 [2:35:30<1:07:19,  3.71s/it]"
     ]
    },
    {
     "name": "stdout",
     "output_type": "stream",
     "text": [
      "⚠️  LLM API call failed (attempt 1/4): 503 Server Error: Service Unavailable for url: https://api.together.xyz/v1/chat/completions (Request ID: nrvhgMV-3NKUce-93782f7efb18ad3a)\n",
      "\n",
      "{'message': 'Service unavailable', 'type': 'service_unavailable', 'param': None, 'code': None}\n",
      "   ↪️  Offending chunk:\n",
      "'Noah put them on the ark.'\n",
      "   ⏳ Waiting 60s before retrying…\n"
     ]
    },
    {
     "name": "stderr",
     "output_type": "stream",
     "text": [
      "Scoring:  73%|███████▎  | 2935/4011 [2:37:04<50:57,  2.84s/it]  "
     ]
    },
    {
     "name": "stdout",
     "output_type": "stream",
     "text": [
      "⚠️  LLM API call failed (attempt 1/4): 503 Server Error: Service Unavailable for url: https://api.together.xyz/v1/chat/completions (Request ID: nrvi9tS-2j9zxn-937831c3581dad3a)\n",
      "\n",
      "{'message': 'Service unavailable', 'type': 'service_unavailable', 'param': None, 'code': None}\n",
      "   ↪️  Offending chunk:\n",
      "Here is the question the participant was solving:\n",
      "\n",
      "'Would it be ethical for a man to marry the sister of his widow?'\n",
      "\n",
      "The incorrect, intuitive answer is: 'Yes / No'\n",
      "The correct answer is: 'Not possible'\n",
      "\n",
      "Here is the current chunk of the transcription:\n",
      "\n",
      "'This one's going to make me think, actually.'\n",
      "   ⏳ Waiting 60s before retrying…\n",
      "⚠️  LLM API call failed (attempt 1/4): 503 Server Error: Service Unavailable for url: https://api.together.xyz/v1/chat/completions (Request ID: nrviVKh-2j9zxn-9378335bf9a4ad3a)\n",
      "\n",
      "{'message': 'Service unavailable', 'type': 'service_unavailable', 'param': None, 'code': None}\n",
      "   ↪️  Offending chunk:\n",
      "Here is the question the participant was solving:\n",
      "\n",
      "'Would it be ethical for a man to marry the sister of his widow?'\n",
      "\n",
      "The incorrect, intuitive answer is: 'Yes / No'\n",
      "The correct answer is: 'Not possible'\n",
      "\n",
      "Here is the current chunk of the transcription:\n",
      "\n",
      "'This one's going to make me think, actually.'\n",
      "   ⏳ Waiting 60s before retrying…\n"
     ]
    },
    {
     "name": "stderr",
     "output_type": "stream",
     "text": [
      "Scoring:  74%|███████▎  | 2950/4011 [2:39:53<49:59,  2.83s/it]   "
     ]
    },
    {
     "name": "stdout",
     "output_type": "stream",
     "text": [
      "💾  Checkpoint written at chunk 2950\n"
     ]
    },
    {
     "name": "stderr",
     "output_type": "stream",
     "text": [
      "Scoring:  74%|███████▍  | 2961/4011 [2:40:34<1:30:48,  5.19s/it]"
     ]
    },
    {
     "name": "stdout",
     "output_type": "stream",
     "text": [
      "⚠️  LLM API call failed (attempt 1/4): 503 Server Error: Service Unavailable for url: https://api.together.xyz/v1/chat/completions (Request ID: nrvjEN7-2j9zxn-937836e4ce5cad3a)\n",
      "\n",
      "{'message': 'Service unavailable', 'type': 'service_unavailable', 'param': None, 'code': None}\n",
      "   ↪️  Offending chunk:\n",
      "Here is the question the participant was solving:\n",
      "\n",
      "'If you have only one match and you walk into a dark room with an oil lamp, a newspaper and wood—which thing would you light first?'\n",
      "\n",
      "The incorrect, intuitive answer is: 'Oil lamp / Newspaper / Wood'\n",
      "The correct answer is: 'Match'\n",
      "\n",
      "Here is the current chunk of the transcription:\n",
      "\n",
      "'Well, you couldn't like nothing because that was no clue to it later.'\n",
      "   ⏳ Waiting 60s before retrying…\n",
      "⚠️  LLM API call failed (attempt 2/4): 503 Server Error: Service Unavailable for url: https://api.together.xyz/v1/chat/completions (Request ID: nrvjYRG-2j9zxn-9378385f1ee1ad3a)\n",
      "\n",
      "{'message': 'Service unavailable', 'type': 'service_unavailable', 'param': None, 'code': None}\n",
      "   ↪️  Offending chunk:\n",
      "Here is the question the participant was solving:\n",
      "\n",
      "'If you have only one match and you walk into a dark room with an oil lamp, a newspaper and wood—which thing would you light first?'\n",
      "\n",
      "The incorrect, intuitive answer is: 'Oil lamp / Newspaper / Wood'\n",
      "The correct answer is: 'Match'\n",
      "\n",
      "Here is the current chunk of the transcription:\n",
      "\n",
      "'Well, you couldn't like nothing because that was no clue to it later.'\n",
      "   ⏳ Waiting 60s before retrying…\n"
     ]
    },
    {
     "name": "stderr",
     "output_type": "stream",
     "text": [
      "Scoring:  74%|███████▍  | 2962/4011 [2:42:38<11:51:35, 40.70s/it]"
     ]
    },
    {
     "name": "stdout",
     "output_type": "stream",
     "text": [
      "⚠️  LLM API call failed (attempt 1/4): 503 Server Error: Service Unavailable for url: https://api.together.xyz/v1/chat/completions (Request ID: nrvjscL-3NKUce-937839f228fead3a)\n",
      "\n",
      "{'message': 'Service unavailable', 'type': 'service_unavailable', 'param': None, 'code': None}\n",
      "   ↪️  Offending chunk:\n",
      "Here is the question the participant was solving:\n",
      "\n",
      "'If you have only one match and you walk into a dark room with an oil lamp, a newspaper and wood—which thing would you light first?'\n",
      "\n",
      "The incorrect, intuitive answer is: 'Oil lamp / Newspaper / Wood'\n",
      "The correct answer is: 'Match'\n",
      "\n",
      "Here is the current chunk of the transcription:\n",
      "\n",
      "'Of course, we have how much, so I didn't read that before.'\n",
      "   ⏳ Waiting 60s before retrying…\n"
     ]
    },
    {
     "name": "stderr",
     "output_type": "stream",
     "text": [
      "Scoring:  74%|███████▍  | 2971/4011 [2:44:10<1:41:27,  5.85s/it] "
     ]
    },
    {
     "name": "stdout",
     "output_type": "stream",
     "text": [
      "⚠️  LLM API call failed (attempt 1/4): 503 Server Error: Service Unavailable for url: https://api.together.xyz/v1/chat/completions (Request ID: nrvkLWH-2j9zxn-93783c2968efad3a)\n",
      "\n",
      "{'message': 'Service unavailable', 'type': 'service_unavailable', 'param': None, 'code': None}\n",
      "   ↪️  Offending chunk:\n",
      "Here is the question the participant was solving:\n",
      "\n",
      "'Which sentence is correct: (a) 'the yolk of the egg are white' or (b) 'the yolk of the egg is white'?'\n",
      "\n",
      "The incorrect, intuitive answer is: 'b'\n",
      "The correct answer is: 'The yolk is yellow'\n",
      "\n",
      "Here is the current chunk of the transcription:\n",
      "\n",
      "'It might be that, if you'll see, it's so hard to see.'\n",
      "   ⏳ Waiting 60s before retrying…\n"
     ]
    },
    {
     "name": "stderr",
     "output_type": "stream",
     "text": [
      "Scoring:  74%|███████▍  | 2972/4011 [2:45:13<6:37:36, 22.96s/it]"
     ]
    },
    {
     "name": "stdout",
     "output_type": "stream",
     "text": [
      "⚠️  LLM API call failed (attempt 1/4): 503 Server Error: Service Unavailable for url: https://api.together.xyz/v1/chat/completions (Request ID: nrvkfcr-3NKUce-93783db8fe53ad3a)\n",
      "\n",
      "{'message': 'Service unavailable', 'type': 'service_unavailable', 'param': None, 'code': None}\n",
      "   ↪️  Offending chunk:\n",
      "Here is the question the participant was solving:\n",
      "\n",
      "'Mary’s father has 5 daughters but no sons—Nana, Nene, Nini, Nono. What is the fifth daughter’s name probably?'\n",
      "\n",
      "The incorrect, intuitive answer is: 'Nunu'\n",
      "The correct answer is: 'Mary'\n",
      "\n",
      "Here is the current chunk of the transcription:\n",
      "\n",
      "'Please remember that. Mary's father has five daughters but no sons. Nana, Nini, Nini.'\n",
      "   ⏳ Waiting 60s before retrying…\n"
     ]
    },
    {
     "name": "stderr",
     "output_type": "stream",
     "text": [
      "Scoring:  75%|███████▍  | 3000/4011 [2:47:29<49:13,  2.92s/it]   "
     ]
    },
    {
     "name": "stdout",
     "output_type": "stream",
     "text": [
      "💾  Checkpoint written at chunk 3000\n"
     ]
    },
    {
     "name": "stderr",
     "output_type": "stream",
     "text": [
      "Scoring:  76%|███████▌  | 3044/4011 [2:49:44<37:29,  2.33s/it]  "
     ]
    }
   ],
   "source": [
    "# --------------------------------------------------------------------\n",
    "# 1. Config\n",
    "# --------------------------------------------------------------------\n",
    "LLAMA_MODEL  = \"meta-llama/Llama-3.3-70B-Instruct\"\n",
    "TEMPERATURE  = 1\n",
    "TOP_P        = 1\n",
    "MAX_TOKENS   = 200\n",
    "N            = 5\n",
    "TESTING      = False\n",
    "MAX_RETRIES  = 4\n",
    "WAIT_SECONDS = 60\n",
    "OVERWRITE    = False\n",
    "\n",
    "\n",
    "# --------------------------------------------------------------------\n",
    "# 2. Helpers\n",
    "# --------------------------------------------------------------------\n",
    "def parse_deliberation_scores(raw: list[str]) -> list[dict]:\n",
    "    \"\"\"\n",
    "    Parse N completions that look like:\n",
    "        Response Control: 12\n",
    "        Response Generation: 34.5\n",
    "        Response Justification: 0\n",
    "        Response Regulation: 88\n",
    "    Returns a list of length N, each item a dict with the four scores\n",
    "    (floats). If anything is missing or un-parseable, NaN is inserted.\n",
    "    \"\"\"\n",
    "    KEYS = [\"control\", \"generation\", \"justification\", \"regulation\"]\n",
    "    pattern = re.compile(r\"\\d+(?:\\.\\d+)?\")      # 0-100, accepts decimals\n",
    "\n",
    "    parsed = []\n",
    "    for txt in raw:\n",
    "        # Drop empty lines the LLM might prepend/append\n",
    "        lines = [ln for ln in txt.splitlines() if ln.strip()]\n",
    "        scores = {}\n",
    "        for i, key in enumerate(KEYS):\n",
    "            try:\n",
    "                num = pattern.search(lines[i]).group()\n",
    "                scores[key] = float(num)\n",
    "            except Exception:\n",
    "                scores[key] = np.nan\n",
    "        parsed.append(scores)\n",
    "\n",
    "    return parsed\n",
    "\n",
    "def parse_single_scores(raw: list[str]) -> list[float]:\n",
    "    scores = []\n",
    "    for txt in raw:\n",
    "        m = re.search(r\"\\d+(?:\\.\\d+)?\", txt)\n",
    "        scores.append(float(m.group()) if m else np.nan)\n",
    "    if len(scores) < N:\n",
    "        scores.extend([np.nan] * (N - len(scores)))\n",
    "    return scores\n",
    "\n",
    "def query_llm(system_prompt: str, user_prompt: str, n: int = N,\n",
    "              max_retries: int = MAX_RETRIES, wait: int = WAIT_SECONDS,\n",
    "              parse_func=None) -> list:\n",
    "    for attempt in range(1, max_retries + 1):\n",
    "        try:\n",
    "            response = client.chat.completions.create(\n",
    "                model       = LLAMA_MODEL,\n",
    "                messages    = [\n",
    "                    {\"role\": \"system\", \"content\": system_prompt},\n",
    "                    {\"role\": \"user\",   \"content\": user_prompt}\n",
    "                ],\n",
    "                max_tokens  = MAX_TOKENS,\n",
    "                temperature = TEMPERATURE,\n",
    "                top_p       = TOP_P,\n",
    "                n           = n\n",
    "            )\n",
    "            raw_outputs = [c.message.content.strip() for c in response.choices]\n",
    "            parsed = parse_func(raw_outputs)\n",
    "\n",
    "            if isinstance(parsed[0], dict):\n",
    "                # For deliberation: all scores in a dict\n",
    "                if all(all(np.isnan(v) for v in d.values()) for d in parsed):\n",
    "                    raise ValueError(\"All parsed scores are NaN.\")\n",
    "            else:\n",
    "                # For confidence/repetition: single float scores\n",
    "                if all(np.isnan(score) for score in parsed):\n",
    "                    raise ValueError(\"All parsed scores are NaN.\")\n",
    "\n",
    "            return parsed\n",
    "\n",
    "        except Exception as err:\n",
    "            print(f\"⚠️  LLM API call failed (attempt {attempt}/{max_retries}): {err}\")\n",
    "            print(\"   ↪️  Offending chunk:\")\n",
    "            print(user_prompt)\n",
    "            if attempt < max_retries:\n",
    "                print(f\"   ⏳ Waiting {wait}s before retrying…\")\n",
    "                time.sleep(wait)\n",
    "            else:\n",
    "                print(\"❌  Final retry failed — returning NaN scores.\")\n",
    "                return [np.nan] * n if parse_func == parse_single_scores else [{k: np.nan for k in [\"control\", \"generation\", \"justification\", \"regulation\"]}] * n\n",
    "\n",
    "\n",
    "# --------------------------------------------------------------------\n",
    "# 3. Data\n",
    "# --------------------------------------------------------------------\n",
    "aligned_df = pd.read_csv(\"../Output/aligned_chunks.csv\")\n",
    "if TESTING:\n",
    "    aligned_df = aligned_df.head(2)\n",
    "\n",
    "out_path = \"../Output/scored_chunks.csv\"\n",
    "\n",
    "meta_cols = [\"subject_id\", \"question\", \"question_text\", \"correct_answer\", \"lured_answer\"]\n",
    "meta_dict = {(r.subject_id, r.question): r for _, r in data_long[meta_cols].iterrows()}\n",
    "\n",
    "if os.path.exists(out_path) and not OVERWRITE:\n",
    "    prev = pd.read_csv(out_path)\n",
    "    done_keys = set(zip(prev.subject_id, prev.question, prev.chunk_id))\n",
    "    results = prev.to_dict(orient=\"records\")\n",
    "    print(f\"🔄  Resuming – {len(done_keys)} chunks already scored.\")\n",
    "else:\n",
    "    done_keys, results = set(), []\n",
    "\n",
    "PROMPT_MAP = {\n",
    "    \"deliberation\": scoring_prompt,          # merged 4-function prompt\n",
    "    \"repetition\": scoring_prompt_repetition,\n",
    "    \"answer_selection\": scoring_prompt_answer_selection,\n",
    "    \"confidence\": scoring_prompt_confidence\n",
    "}\n",
    "CONTEXT_PROMPTS = {\"deliberation\", \"repetition\", \"answer_selection\"}\n",
    "\n",
    "# --------------------------------------------------------------------\n",
    "# 4. Scoring loop\n",
    "# --------------------------------------------------------------------\n",
    "for idx, row in tqdm(aligned_df.iterrows(), total=len(aligned_df), desc=\"Scoring\"):\n",
    "    key = (row.subject_id, row.question, row.chunk_number)\n",
    "    if key in done_keys:\n",
    "        continue\n",
    "\n",
    "    meta = meta_dict[(row.subject_id, row.question)]\n",
    "\n",
    "    rec = {\n",
    "        \"subject_id\": row.subject_id,\n",
    "        \"question\":   row.question,\n",
    "        \"chunk_id\":   row.chunk_number,\n",
    "        \"chunk_text\": row.chunk_text,\n",
    "        \"start_time\": row.start_time,\n",
    "        \"end_time\":   row.end_time,\n",
    "    }\n",
    "\n",
    "    # --- Unified Deliberation Scoring ---\n",
    "    user_prompt = (\n",
    "f\"Here is the question the participant was solving:\\n\\n\"\n",
    "f\"'{meta.question_text}'\\n\\n\"\n",
    "f\"The incorrect, intuitive answer is: '{meta.lured_answer}'\\n\"\n",
    "f\"The correct answer is: '{meta.correct_answer}'\\n\\n\"\n",
    "f\"Here is the current chunk of the transcription:\\n\\n'{row.chunk_text}'\"\n",
    "    )\n",
    "    parsed_dicts = query_llm(\n",
    "        PROMPT_MAP[\"deliberation\"],\n",
    "        user_prompt,\n",
    "        n=N,\n",
    "        parse_func=parse_deliberation_scores\n",
    "    )\n",
    "    for func in [\"control\", \"generation\", \"justification\", \"regulation\"]:\n",
    "        scores = [d[func] for d in parsed_dicts]\n",
    "        rec[f\"{func}_scores\"] = json.dumps(scores)\n",
    "        rec[f\"{func}_mean\"]   = np.nanmean(scores)\n",
    "\n",
    "    # --- Single-score prompts (repetition, answer_selection, confidence) ---\n",
    "    for label in [\"repetition\", \"answer_selection\", \"confidence\"]:\n",
    "        user_prompt = (\n",
    "            f\"Here is the question the participant was solving:\\n\\n\"\n",
    "            f\"'{meta.question_text}'\\n\\n\"\n",
    "            f\"The incorrect, intuitive answer is: '{meta.lured_answer}'\\n\"\n",
    "            f\"The correct answer is: '{meta.correct_answer}'\\n\\n\"\n",
    "            f\"Here is the current chunk of the transcription:\\n\\n'{row.chunk_text}'\"\n",
    "        ) if label in CONTEXT_PROMPTS else f\"'{row.chunk_text}'\"\n",
    "\n",
    "        scores = query_llm(\n",
    "            PROMPT_MAP[label],\n",
    "            user_prompt,\n",
    "            n=N,\n",
    "            parse_func=parse_single_scores\n",
    "        )\n",
    "        rec[f\"{label}_scores\"] = json.dumps(scores)\n",
    "        rec[f\"{label}_mean\"]   = np.nanmean(scores)\n",
    "\n",
    "    results.append(rec)\n",
    "\n",
    "    if (idx + 1) % 50 == 0:\n",
    "        pd.DataFrame(results).to_csv(out_path, index=False)\n",
    "        print(f\"💾  Checkpoint written at chunk {idx+1}\")\n",
    "\n",
    "# --------------------------------------------------------------------\n",
    "# 5. Final save\n",
    "# --------------------------------------------------------------------\n",
    "scored_df = pd.DataFrame(results).merge(\n",
    "    data_long,\n",
    "    on=[\"subject_id\", \"question\"],\n",
    "    how=\"left\"\n",
    ")\n",
    "scored_df.to_csv(out_path, index=False)\n",
    "print(f\"✅  Finished scoring — {len(scored_df)} chunks written to {out_path}\")"
   ]
  }
 ],
 "metadata": {
  "kernelspec": {
   "display_name": "Python 3 (ipykernel)",
   "language": "python",
   "name": "python3"
  },
  "language_info": {
   "codemirror_mode": {
    "name": "ipython",
    "version": 3
   },
   "file_extension": ".py",
   "mimetype": "text/x-python",
   "name": "python",
   "nbconvert_exporter": "python",
   "pygments_lexer": "ipython3",
   "version": "3.11.8"
  }
 },
 "nbformat": 4,
 "nbformat_minor": 5
}
